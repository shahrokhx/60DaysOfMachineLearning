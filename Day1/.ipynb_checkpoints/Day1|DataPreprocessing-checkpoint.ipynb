{
 "cells": [
  {
   "cell_type": "markdown",
   "metadata": {},
   "source": [
    "### Day1 | Installing and Importing Required Libraries"
   ]
  },
  {
   "cell_type": "markdown",
   "metadata": {},
   "source": [
    "\n",
    "---\n",
    "pip3 install numpy==1.18.4 --ignore-installed\n",
    "\n",
    "pip3 install scipy==1.4.1 --ignore-installed\n",
    "\n",
    "pip3 install pandas==0.25.3 --ignore-installed\n",
    "\n",
    "pip3 install matplotlib==3.0.3 --ignore-installed\n",
    "\n",
    "pip3 install seaborn==0.10.1 --ignore-installed\n",
    "\n",
    "---\n",
    "\n",
    "pip3 install tensorflow==1.13.1 --ignore-installed\n",
    "\n",
    "pip3 install tensorflow-estimator==1.13.0 --ignore-installed\n",
    "\n",
    "pip3 install tensorboard==1.13.1 --ignore-installed\n",
    "\n",
    "pip3 install torch==1.5.1 --ignore-installed\n",
    "\n",
    "pip3 install sklearn\n",
    "\n",
    "---"
   ]
  },
  {
   "cell_type": "code",
   "execution_count": 1,
   "metadata": {},
   "outputs": [],
   "source": [
    "import numpy as np\n",
    "import scipy as sp\n",
    "import pandas as pd\n",
    "import matplotlib as plt\n",
    "import seaborn as sb"
   ]
  },
  {
   "cell_type": "code",
   "execution_count": 2,
   "metadata": {},
   "outputs": [
    {
     "name": "stdout",
     "output_type": "stream",
     "text": [
      "1.19.0\n",
      "1.4.1\n",
      "0.25.3\n",
      "3.0.3\n",
      "0.10.1\n"
     ]
    }
   ],
   "source": [
    "print (np.__version__)\n",
    "print (sp.__version__)\n",
    "print (pd.__version__)\n",
    "print (plt.__version__)\n",
    "print (sb.__version__)"
   ]
  },
  {
   "cell_type": "code",
   "execution_count": 3,
   "metadata": {},
   "outputs": [
    {
     "name": "stdout",
     "output_type": "stream",
     "text": [
      "1.13.1\n",
      "0.22.2.post1\n",
      "1.5.1\n",
      "2.2.4-tf\n"
     ]
    }
   ],
   "source": [
    "import warnings\n",
    "warnings.filterwarnings(\"ignore\") # to get rid of tensorflow warnings (version 2.0 is out!)\n",
    "\n",
    "\n",
    "import tensorflow as tf\n",
    "import tensorboard as tb\n",
    "import sklearn as sk\n",
    "import torch as pt\n",
    "import tensorflow.keras as k\n",
    "\n",
    "print (tf.__version__)\n",
    "print (sk.__version__)\n",
    "print (pt.__version__)\n",
    "print (k.__version__)"
   ]
  }
 ],
 "metadata": {
  "kernelspec": {
   "display_name": "Python 3",
   "language": "python",
   "name": "python3"
  },
  "language_info": {
   "codemirror_mode": {
    "name": "ipython",
    "version": 3
   },
   "file_extension": ".py",
   "mimetype": "text/x-python",
   "name": "python",
   "nbconvert_exporter": "python",
   "pygments_lexer": "ipython3",
   "version": "3.7.7"
  }
 },
 "nbformat": 4,
 "nbformat_minor": 2
}
